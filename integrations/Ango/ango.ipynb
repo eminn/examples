{
 "cells": [
  {
   "cell_type": "markdown",
   "metadata": {
    "id": "8TglEQfw28IZ"
   },
   "source": [
    "# Face classification with Ango and Layer"
   ]
  },
  {
   "cell_type": "markdown",
   "metadata": {
    "id": "-q2HHEBY28Ib"
   },
   "source": [
    "## Install Ango"
   ]
  },
  {
   "cell_type": "code",
   "execution_count": null,
   "metadata": {
    "id": "_t-rRu6r7Mgj",
    "pycharm": {
     "is_executing": true
    }
   },
   "outputs": [],
   "source": [
    "!pip install ango -qqq"
   ]
  },
  {
   "cell_type": "markdown",
   "metadata": {
    "id": "MvdHYeg628Ic"
   },
   "source": [
    "## Install Layer"
   ]
  },
  {
   "cell_type": "code",
   "execution_count": null,
   "metadata": {
    "id": "6GtVdzom28Ic",
    "pycharm": {
     "is_executing": true
    }
   },
   "outputs": [],
   "source": [
    "!pip install --upgrade layer -qqq"
   ]
  },
  {
   "cell_type": "markdown",
   "metadata": {
    "id": "rePs1GAX28Ic"
   },
   "source": [
    "## Fetch [data from Ango Hub](https://ango.ai/open-dataset/)"
   ]
  },
  {
   "cell_type": "code",
   "execution_count": 3,
   "metadata": {
    "id": "F6pl0oyT64al"
   },
   "outputs": [],
   "source": [
    "from ango.sdk import SDK\n",
    "import os \n",
    "import urllib.request\n",
    "\n",
    "class Ango:\n",
    "    def __init__(self, api_key, project_id=None) -> None:\n",
    "        self.sdk = SDK(api_key=api_key)\n",
    "        if project_id:\n",
    "            self.project_id = project_id\n",
    "    \n",
    "    def setProject(self,project_id):\n",
    "        self.project_id = project_id\n",
    "    \n",
    "    '''\n",
    "    Gets annotations for assets within a project, streams page by page.\n",
    "    params:\n",
    "    items_per_page : The number of annotations fetched per page.\n",
    "    annotation_status : The current stage of annotation (\"Completed\" OR \"Todo\") leave blank to fetch all\n",
    "\n",
    "    returns:\n",
    "    A List of annotations\n",
    "    '''\n",
    "    def getAnnotations(self, items_per_page = 100, annotation_status = None):\n",
    "        remaining_tasks = 1\n",
    "        page = 1\n",
    "        tasks = []\n",
    "        while (remaining_tasks > 0):\n",
    "            response =  self.sdk.get_tasks(self.project_id, page=page, limit=items_per_page, status= annotation_status)\n",
    "            tasks.extend(response['data']['tasks'])\n",
    "            remaining_tasks =  response[\"data\"][\"total\"] - len(tasks)\n",
    "            page += 1\n",
    "        return tasks\n",
    "\n",
    "    def get_name_from_url(self, imgUrl):\n",
    "      return imgUrl.split('/')[-1]\n",
    "\n",
    "    def fetchImages(self,images, folder_path=\"downloaded_images/\"):\n",
    "      dirname = os.path.dirname(__file__)\n",
    "      if (not os.path.exists(folder_path)):\n",
    "          os.mkdir(os.path.join(dirname, folder_path))\n",
    "      for imgUrl in images:\n",
    "        img_name = self.get_name_from_url(imgUrl)\n",
    "        image_path = os.path.join(dirname, folder_path, img_name)\n",
    "        if os.path.isfile(image_path):\n",
    "          continue\n",
    "        else:\n",
    "          urllib.request.urlretrieve(imgUrl, image_path)\n",
    "      print(\"All images downloaded\")\n",
    "\n",
    "    def fetchExportLink(self):\n",
    "      return self.sdk.export(self.project_id)['data']['exportPath']\n",
    "      "
   ]
  },
  {
   "cell_type": "code",
   "execution_count": 4,
   "metadata": {
    "id": "-yp1jFSu7ESQ",
    "outputId": "75a2683a-a114-447d-b49b-244a5e5b4e5d",
    "colab": {
     "base_uri": "https://localhost:8080/"
    }
   },
   "outputs": [
    {
     "output_type": "stream",
     "name": "stdout",
     "text": [
      "46064\n"
     ]
    }
   ],
   "source": [
    "#Run this block after the two credentials have been added.\n",
    "#You may save the annotations in JSON, or use them programatically. \n",
    "#Note: This takes some time for larger annotations.\n",
    "ango = Ango(api_key=\"e386bcdd-d13d-4486-8b0a-cd98b9f0c567\",project_id=\"61813de904e6ca000e03ba8a\") #Face Classification\n",
    "annotations = ango.getAnnotations(annotation_status=\"Completed\")\n",
    "print(len(annotations))"
   ]
  },
  {
   "cell_type": "code",
   "execution_count": null,
   "metadata": {
    "id": "sKJGwI6Pq9kA",
    "pycharm": {
     "is_executing": true
    }
   },
   "outputs": [],
   "source": [
    "link = ango.fetchExportLink()\n",
    "print(link)"
   ]
  },
  {
   "cell_type": "markdown",
   "metadata": {
    "id": "4-yLINx_ch6t"
   },
   "source": [
    "### Save the data as a Pandas DataFrame"
   ]
  },
  {
   "cell_type": "code",
   "execution_count": 25,
   "metadata": {
    "id": "DYU3qE-Rcmq3"
   },
   "outputs": [],
   "source": [
    "import pandas as pd\n",
    "\n",
    "def get_answer(schemaId, task):\n",
    "  return next((answer[\"answer\"] for answer in task['answer']['classifications'] if answer['schemaId'] == schemaId), None)\n",
    "\n",
    "def build():\n",
    "  from PIL import Image\n",
    "  import requests\n",
    "\n",
    "  data = []\n",
    "  for task in annotations[:2500]:\n",
    "    img_url = task[\"asset\"][\"data\"]\n",
    "    img = Image.open(requests.get(img_url, stream=True).raw)\n",
    "\n",
    "    data.append([\n",
    "      img,\n",
    "      get_answer(\"7d4d70ea16e8e5d7ce8e721\", task), # Sex\n",
    "      get_answer(\"76e4a3dbf96926edadd5203\", task), # Age\n",
    "      get_answer(\"05e865541776c186f3e4003\", task), # Hair Color\n",
    "      get_answer(\"ff5e7ac66607ebe73810601\", task), # Beard Color\n",
    "      get_answer(\"1f5411a7bbcdba28fe30677\", task), # Mustache Color\n",
    "      get_answer(\"d0d75fc06feaa006e5c0106\", task), # Eye Color\n",
    "      get_answer(\"ec5e7cd3838fc4d5c7c6298\", task), # Glasses\n",
    "    ])\n",
    "    # answers = task['answer']['classifications']\n",
    "    # answer = next((answer for answer in task['answer']['classifications'] if answer['schemaId'] == \"7d4d70ea16e8e5d7ce8e721\"), None)\n",
    "    # print(answer)\n",
    "    task['answer']['classifications']\n",
    "  \n",
    "  return pd.DataFrame(data,columns=[\"image\", \"sex\", \"age\",\"hair_color\",\"beard_color\",\"mustache_color\",\"eye_color\",\"glasses\"])"
   ]
  },
  {
   "cell_type": "markdown",
   "source": [
    "## Map column names"
   ],
   "metadata": {
    "id": "iE3JbHRrc8fP"
   }
  },
  {
   "cell_type": "code",
   "source": [
    "def map_columns(column):\n",
    "  value = ''\n",
    "  if column == \"193cda8ce1e759a6707f873\":\n",
    "    value = \"Male\"\n",
    "  if column == \"944d236620a51952c5e5571\":\n",
    "    value = \"Female\"\n",
    "  if column == \"77fd6146bfcfd5bfccba368\":\n",
    "    value = \"I am not sure\"\n",
    "  if column == \"bd2668500cd030be4d6f469\":\n",
    "    value = \"Baby (0-2)\"\n",
    "  if column == \"5dc392dbe0dab34ddfe1405\":\n",
    "    value = \"Child (3-12)\"\n",
    "  if column == \"50db2c4e3380ac4ae82f911\":\n",
    "    value = \"Adolescent (13-19)\"\n",
    "  if column == \"ce831ed469ea6e878be9513\":\n",
    "    value = \"Young (20-27)\"\n",
    "  if column == \"af9c38362173fccfd7c3015\":\n",
    "    value = \"Adult (28-54)\"\n",
    "  if column == \"711701b1b06e3fba4991772\":\n",
    "    value = \"Advanced Age (55+)\"\n",
    "  if column == \"2970de9075a430cba14f279\":\n",
    "    value = \"I am not sure\"\n",
    "  if column == \"a5d5d80e66f9f205071a314\":\n",
    "    value = \"Black\"\n",
    "  if column == \"fc277c228c78e2205589549\":\n",
    "    value = \"Brown\"\n",
    "  if column == \"6f5e48233cc751dd079e080\":\n",
    "    value = \"Blonde\"\n",
    "  if column == \"6b2f1ab2649041f77bb0298\":\n",
    "    value = \"Red\"\n",
    "  if column == \"736a5a968718ae5b6444131\":\n",
    "    value = \"Other\"\n",
    "  if column == \"b68d722e43f041710e47987\":\n",
    "    value = \"I am not sure\"\n",
    "  if column == \"e4b85e70f3afdccc9db6540\":\n",
    "    value = \"not visible\"\n",
    "  if column == \"282825ed043bf653768b426\":\n",
    "    value = \"no hair\"\n",
    "  if column == \"4b17bef04561266670d8206\":\n",
    "    value = \"Black\"\n",
    "  if column == \"6919425e2396b9b40f6f485\":\n",
    "    value = \"Blonde\"\n",
    "  if column == \"0eb1daf52c68a2949007480\":\n",
    "    value = \"Red\"\n",
    "  if column == \"86f8304be238a41cec5b993\":\n",
    "    value = \"Other\"\n",
    "  if column == \"a790b7c3a553cbe07890290\":\n",
    "    value = \"I am not sure\"\n",
    "  if column == \"7c1a27a0f38cf58c49dc828\":\n",
    "    value = \"not visible\"\n",
    "  if column == \"34c35efb4914475c2ff3057\":\n",
    "    value = \"No beard\"\n",
    "  if column == \"fcd81b574198478f2db8682\":\n",
    "    value = \"Black\"\n",
    "  if column == \"b411a018af74c13ecf90737\":\n",
    "    value = \"Brown\"\n",
    "  if column == \"259478fd6b7e2e380aab571\":\n",
    "    value = \"Blonde\"\n",
    "  if column == \"080731525844bfceba0a521\":\n",
    "    value = \"Red\"\n",
    "  if column == \"59eabca3b294c4a6505a127\":\n",
    "    value = \"Other\"\n",
    "  if column == \"6954030d7b0ac951ecfb000\":\n",
    "    value = \"I am not sure\"\n",
    "  if column == \"e5d65255a498a4158f49686\":\n",
    "    value = \"not visible\"\n",
    "  if column == \"38f72fe7c936801c4f57923\":\n",
    "    value = \"no mustache\"\n",
    "  if column == \"840281fa1c0e97d6e2f5869\":\n",
    "    value = \"Brown\"\n",
    "  if column == \"d3ddbc0b880770722a61928\":\n",
    "    value = \"Green\"\n",
    "  if column == \"3f0bdc2ede23b06f3886233\":\n",
    "    value = \"Blue\"\n",
    "  if column == \"8ed3700cc18f621fd77e483\":\n",
    "    value = \"Other\"\n",
    "  if column == \"86063a0a72c77752bc5c143\":\n",
    "    value = \"I am not sure\"\n",
    "  if column == \"97f0074a4016d00ba6ad145\":\n",
    "    value = \"not visible\"\n",
    "  if column == \"c3379433f9341398c2d0186\":\n",
    "    value = \"prescription glasses\"\n",
    "  if column == \"62034dc149cb408f2fdb556\":\n",
    "    value = \"Sunglasses\"\n",
    "  if column == \"0cf7ca3372e071f963b6234\":\n",
    "    value = \"I am not sure\"\n",
    "  if column == \"5c09b9445f4a3e27b638383\":\n",
    "    value = \"not visible\"\n",
    "  if column == \"d71a761292c505e31420704\":\n",
    "    value = \"no glasses\"\n",
    "  return value\n"
   ],
   "metadata": {
    "id": "DFgFH1vJc7nk"
   },
   "execution_count": 26,
   "outputs": []
  },
  {
   "cell_type": "code",
   "source": [
    "df = build()\n",
    "df['sex'] = df['sex'].map(map_columns)\n",
    "df['age'] = df['age'].map(map_columns)\n",
    "df['hair_color'] = df['hair_color'].map(map_columns)\n",
    "df['beard_color'] = df['beard_color'].map(map_columns)\n",
    "df['mustache_color'] = df['mustache_color'].map(map_columns)\n",
    "df['eye_color'] = df['eye_color'].map(map_columns)\n",
    "df['glasses'] = df['glasses'].map(map_columns)\n",
    "df.head()"
   ],
   "metadata": {
    "id": "ZcVjRwqLlliD",
    "outputId": "5e512e98-b67c-4130-a24e-fa2954b47254",
    "colab": {
     "base_uri": "https://localhost:8080/",
     "height": 206
    }
   },
   "execution_count": 18,
   "outputs": [
    {
     "output_type": "execute_result",
     "data": {
      "text/plain": [
       "                                               image     sex            age  \\\n",
       "0  <PIL.PngImagePlugin.PngImageFile image mode=RG...  Female  Young (20-27)   \n",
       "1  <PIL.PngImagePlugin.PngImageFile image mode=RG...    Male  Young (20-27)   \n",
       "2  <PIL.PngImagePlugin.PngImageFile image mode=RG...  Female  Young (20-27)   \n",
       "3  <PIL.PngImagePlugin.PngImageFile image mode=RG...  Female  Young (20-27)   \n",
       "4  <PIL.PngImagePlugin.PngImageFile image mode=RG...    Male  Adult (28-54)   \n",
       "\n",
       "  hair_color beard_color mustache_color    eye_color     glasses  \n",
       "0      Brown    No beard    no mustache  not visible  no glasses  \n",
       "1      Brown      Blonde          Brown        Brown  no glasses  \n",
       "2      Black    No beard    no mustache        Brown  no glasses  \n",
       "3      Brown    No beard    no mustache        Brown  no glasses  \n",
       "4      Black    No beard    no mustache        Brown  no glasses  "
      ],
      "text/html": [
       "\n",
       "  <div id=\"df-49af3bac-9ddf-48ac-9cfd-8c94bd91c126\">\n",
       "    <div class=\"colab-df-container\">\n",
       "      <div>\n",
       "<style scoped>\n",
       "    .dataframe tbody tr th:only-of-type {\n",
       "        vertical-align: middle;\n",
       "    }\n",
       "\n",
       "    .dataframe tbody tr th {\n",
       "        vertical-align: top;\n",
       "    }\n",
       "\n",
       "    .dataframe thead th {\n",
       "        text-align: right;\n",
       "    }\n",
       "</style>\n",
       "<table border=\"1\" class=\"dataframe\">\n",
       "  <thead>\n",
       "    <tr style=\"text-align: right;\">\n",
       "      <th></th>\n",
       "      <th>image</th>\n",
       "      <th>sex</th>\n",
       "      <th>age</th>\n",
       "      <th>hair_color</th>\n",
       "      <th>beard_color</th>\n",
       "      <th>mustache_color</th>\n",
       "      <th>eye_color</th>\n",
       "      <th>glasses</th>\n",
       "    </tr>\n",
       "  </thead>\n",
       "  <tbody>\n",
       "    <tr>\n",
       "      <th>0</th>\n",
       "      <td>&lt;PIL.PngImagePlugin.PngImageFile image mode=RG...</td>\n",
       "      <td>Female</td>\n",
       "      <td>Young (20-27)</td>\n",
       "      <td>Brown</td>\n",
       "      <td>No beard</td>\n",
       "      <td>no mustache</td>\n",
       "      <td>not visible</td>\n",
       "      <td>no glasses</td>\n",
       "    </tr>\n",
       "    <tr>\n",
       "      <th>1</th>\n",
       "      <td>&lt;PIL.PngImagePlugin.PngImageFile image mode=RG...</td>\n",
       "      <td>Male</td>\n",
       "      <td>Young (20-27)</td>\n",
       "      <td>Brown</td>\n",
       "      <td>Blonde</td>\n",
       "      <td>Brown</td>\n",
       "      <td>Brown</td>\n",
       "      <td>no glasses</td>\n",
       "    </tr>\n",
       "    <tr>\n",
       "      <th>2</th>\n",
       "      <td>&lt;PIL.PngImagePlugin.PngImageFile image mode=RG...</td>\n",
       "      <td>Female</td>\n",
       "      <td>Young (20-27)</td>\n",
       "      <td>Black</td>\n",
       "      <td>No beard</td>\n",
       "      <td>no mustache</td>\n",
       "      <td>Brown</td>\n",
       "      <td>no glasses</td>\n",
       "    </tr>\n",
       "    <tr>\n",
       "      <th>3</th>\n",
       "      <td>&lt;PIL.PngImagePlugin.PngImageFile image mode=RG...</td>\n",
       "      <td>Female</td>\n",
       "      <td>Young (20-27)</td>\n",
       "      <td>Brown</td>\n",
       "      <td>No beard</td>\n",
       "      <td>no mustache</td>\n",
       "      <td>Brown</td>\n",
       "      <td>no glasses</td>\n",
       "    </tr>\n",
       "    <tr>\n",
       "      <th>4</th>\n",
       "      <td>&lt;PIL.PngImagePlugin.PngImageFile image mode=RG...</td>\n",
       "      <td>Male</td>\n",
       "      <td>Adult (28-54)</td>\n",
       "      <td>Black</td>\n",
       "      <td>No beard</td>\n",
       "      <td>no mustache</td>\n",
       "      <td>Brown</td>\n",
       "      <td>no glasses</td>\n",
       "    </tr>\n",
       "  </tbody>\n",
       "</table>\n",
       "</div>\n",
       "      <button class=\"colab-df-convert\" onclick=\"convertToInteractive('df-49af3bac-9ddf-48ac-9cfd-8c94bd91c126')\"\n",
       "              title=\"Convert this dataframe to an interactive table.\"\n",
       "              style=\"display:none;\">\n",
       "        \n",
       "  <svg xmlns=\"http://www.w3.org/2000/svg\" height=\"24px\"viewBox=\"0 0 24 24\"\n",
       "       width=\"24px\">\n",
       "    <path d=\"M0 0h24v24H0V0z\" fill=\"none\"/>\n",
       "    <path d=\"M18.56 5.44l.94 2.06.94-2.06 2.06-.94-2.06-.94-.94-2.06-.94 2.06-2.06.94zm-11 1L8.5 8.5l.94-2.06 2.06-.94-2.06-.94L8.5 2.5l-.94 2.06-2.06.94zm10 10l.94 2.06.94-2.06 2.06-.94-2.06-.94-.94-2.06-.94 2.06-2.06.94z\"/><path d=\"M17.41 7.96l-1.37-1.37c-.4-.4-.92-.59-1.43-.59-.52 0-1.04.2-1.43.59L10.3 9.45l-7.72 7.72c-.78.78-.78 2.05 0 2.83L4 21.41c.39.39.9.59 1.41.59.51 0 1.02-.2 1.41-.59l7.78-7.78 2.81-2.81c.8-.78.8-2.07 0-2.86zM5.41 20L4 18.59l7.72-7.72 1.47 1.35L5.41 20z\"/>\n",
       "  </svg>\n",
       "      </button>\n",
       "      \n",
       "  <style>\n",
       "    .colab-df-container {\n",
       "      display:flex;\n",
       "      flex-wrap:wrap;\n",
       "      gap: 12px;\n",
       "    }\n",
       "\n",
       "    .colab-df-convert {\n",
       "      background-color: #E8F0FE;\n",
       "      border: none;\n",
       "      border-radius: 50%;\n",
       "      cursor: pointer;\n",
       "      display: none;\n",
       "      fill: #1967D2;\n",
       "      height: 32px;\n",
       "      padding: 0 0 0 0;\n",
       "      width: 32px;\n",
       "    }\n",
       "\n",
       "    .colab-df-convert:hover {\n",
       "      background-color: #E2EBFA;\n",
       "      box-shadow: 0px 1px 2px rgba(60, 64, 67, 0.3), 0px 1px 3px 1px rgba(60, 64, 67, 0.15);\n",
       "      fill: #174EA6;\n",
       "    }\n",
       "\n",
       "    [theme=dark] .colab-df-convert {\n",
       "      background-color: #3B4455;\n",
       "      fill: #D2E3FC;\n",
       "    }\n",
       "\n",
       "    [theme=dark] .colab-df-convert:hover {\n",
       "      background-color: #434B5C;\n",
       "      box-shadow: 0px 1px 3px 1px rgba(0, 0, 0, 0.15);\n",
       "      filter: drop-shadow(0px 1px 2px rgba(0, 0, 0, 0.3));\n",
       "      fill: #FFFFFF;\n",
       "    }\n",
       "  </style>\n",
       "\n",
       "      <script>\n",
       "        const buttonEl =\n",
       "          document.querySelector('#df-49af3bac-9ddf-48ac-9cfd-8c94bd91c126 button.colab-df-convert');\n",
       "        buttonEl.style.display =\n",
       "          google.colab.kernel.accessAllowed ? 'block' : 'none';\n",
       "\n",
       "        async function convertToInteractive(key) {\n",
       "          const element = document.querySelector('#df-49af3bac-9ddf-48ac-9cfd-8c94bd91c126');\n",
       "          const dataTable =\n",
       "            await google.colab.kernel.invokeFunction('convertToInteractive',\n",
       "                                                     [key], {});\n",
       "          if (!dataTable) return;\n",
       "\n",
       "          const docLinkHtml = 'Like what you see? Visit the ' +\n",
       "            '<a target=\"_blank\" href=https://colab.research.google.com/notebooks/data_table.ipynb>data table notebook</a>'\n",
       "            + ' to learn more about interactive tables.';\n",
       "          element.innerHTML = '';\n",
       "          dataTable['output_type'] = 'display_data';\n",
       "          await google.colab.output.renderOutput(dataTable, element);\n",
       "          const docLink = document.createElement('div');\n",
       "          docLink.innerHTML = docLinkHtml;\n",
       "          element.appendChild(docLink);\n",
       "        }\n",
       "      </script>\n",
       "    </div>\n",
       "  </div>\n",
       "  "
      ]
     },
     "metadata": {},
     "execution_count": 18
    }
   ]
  },
  {
   "cell_type": "code",
   "source": [
    "list(df['sex'].unique())"
   ],
   "metadata": {
    "id": "tLnmIG-Rq1RW",
    "outputId": "977f925f-3828-4556-a969-6dd2c38e3b8e",
    "colab": {
     "base_uri": "https://localhost:8080/"
    }
   },
   "execution_count": 32,
   "outputs": [
    {
     "output_type": "execute_result",
     "data": {
      "text/plain": [
       "['Female', 'Male', 'I am not sure']"
      ]
     },
     "metadata": {},
     "execution_count": 32
    }
   ]
  },
  {
   "cell_type": "code",
   "source": [
    "from sklearn.preprocessing import LabelEncoder\n",
    "gender = df[['image','sex']]\n",
    "labelencoder = LabelEncoder()\n",
    "gender = gender.assign(sex = labelencoder.fit_transform(gender[\"sex\"]))\n",
    "labelencoder.inverse_transform([0, 1,2])"
   ],
   "metadata": {
    "id": "hC-F1ElHrToP",
    "outputId": "1488be37-7cba-4296-b4f7-c532d93e3b11",
    "colab": {
     "base_uri": "https://localhost:8080/"
    }
   },
   "execution_count": 39,
   "outputs": [
    {
     "output_type": "execute_result",
     "data": {
      "text/plain": [
       "array(['Female', 'I am not sure', 'Male'], dtype=object)"
      ]
     },
     "metadata": {},
     "execution_count": 39
    }
   ]
  },
  {
   "cell_type": "code",
   "source": [
    "gender.head()"
   ],
   "metadata": {
    "id": "ZAWtj745r4yU",
    "outputId": "5d8c5586-024c-4045-8ab2-43771316252d",
    "colab": {
     "base_uri": "https://localhost:8080/",
     "height": 206
    }
   },
   "execution_count": 36,
   "outputs": [
    {
     "output_type": "execute_result",
     "data": {
      "text/plain": [
       "                                               image  sex\n",
       "0  <PIL.PngImagePlugin.PngImageFile image mode=RG...    0\n",
       "1  <PIL.PngImagePlugin.PngImageFile image mode=RG...    2\n",
       "2  <PIL.PngImagePlugin.PngImageFile image mode=RG...    0\n",
       "3  <PIL.PngImagePlugin.PngImageFile image mode=RG...    0\n",
       "4  <PIL.PngImagePlugin.PngImageFile image mode=RG...    2"
      ],
      "text/html": [
       "\n",
       "  <div id=\"df-e0ef6520-8b55-4cd8-ac8e-fe46fc3f8f8a\">\n",
       "    <div class=\"colab-df-container\">\n",
       "      <div>\n",
       "<style scoped>\n",
       "    .dataframe tbody tr th:only-of-type {\n",
       "        vertical-align: middle;\n",
       "    }\n",
       "\n",
       "    .dataframe tbody tr th {\n",
       "        vertical-align: top;\n",
       "    }\n",
       "\n",
       "    .dataframe thead th {\n",
       "        text-align: right;\n",
       "    }\n",
       "</style>\n",
       "<table border=\"1\" class=\"dataframe\">\n",
       "  <thead>\n",
       "    <tr style=\"text-align: right;\">\n",
       "      <th></th>\n",
       "      <th>image</th>\n",
       "      <th>sex</th>\n",
       "    </tr>\n",
       "  </thead>\n",
       "  <tbody>\n",
       "    <tr>\n",
       "      <th>0</th>\n",
       "      <td>&lt;PIL.PngImagePlugin.PngImageFile image mode=RG...</td>\n",
       "      <td>0</td>\n",
       "    </tr>\n",
       "    <tr>\n",
       "      <th>1</th>\n",
       "      <td>&lt;PIL.PngImagePlugin.PngImageFile image mode=RG...</td>\n",
       "      <td>2</td>\n",
       "    </tr>\n",
       "    <tr>\n",
       "      <th>2</th>\n",
       "      <td>&lt;PIL.PngImagePlugin.PngImageFile image mode=RG...</td>\n",
       "      <td>0</td>\n",
       "    </tr>\n",
       "    <tr>\n",
       "      <th>3</th>\n",
       "      <td>&lt;PIL.PngImagePlugin.PngImageFile image mode=RG...</td>\n",
       "      <td>0</td>\n",
       "    </tr>\n",
       "    <tr>\n",
       "      <th>4</th>\n",
       "      <td>&lt;PIL.PngImagePlugin.PngImageFile image mode=RG...</td>\n",
       "      <td>2</td>\n",
       "    </tr>\n",
       "  </tbody>\n",
       "</table>\n",
       "</div>\n",
       "      <button class=\"colab-df-convert\" onclick=\"convertToInteractive('df-e0ef6520-8b55-4cd8-ac8e-fe46fc3f8f8a')\"\n",
       "              title=\"Convert this dataframe to an interactive table.\"\n",
       "              style=\"display:none;\">\n",
       "        \n",
       "  <svg xmlns=\"http://www.w3.org/2000/svg\" height=\"24px\"viewBox=\"0 0 24 24\"\n",
       "       width=\"24px\">\n",
       "    <path d=\"M0 0h24v24H0V0z\" fill=\"none\"/>\n",
       "    <path d=\"M18.56 5.44l.94 2.06.94-2.06 2.06-.94-2.06-.94-.94-2.06-.94 2.06-2.06.94zm-11 1L8.5 8.5l.94-2.06 2.06-.94-2.06-.94L8.5 2.5l-.94 2.06-2.06.94zm10 10l.94 2.06.94-2.06 2.06-.94-2.06-.94-.94-2.06-.94 2.06-2.06.94z\"/><path d=\"M17.41 7.96l-1.37-1.37c-.4-.4-.92-.59-1.43-.59-.52 0-1.04.2-1.43.59L10.3 9.45l-7.72 7.72c-.78.78-.78 2.05 0 2.83L4 21.41c.39.39.9.59 1.41.59.51 0 1.02-.2 1.41-.59l7.78-7.78 2.81-2.81c.8-.78.8-2.07 0-2.86zM5.41 20L4 18.59l7.72-7.72 1.47 1.35L5.41 20z\"/>\n",
       "  </svg>\n",
       "      </button>\n",
       "      \n",
       "  <style>\n",
       "    .colab-df-container {\n",
       "      display:flex;\n",
       "      flex-wrap:wrap;\n",
       "      gap: 12px;\n",
       "    }\n",
       "\n",
       "    .colab-df-convert {\n",
       "      background-color: #E8F0FE;\n",
       "      border: none;\n",
       "      border-radius: 50%;\n",
       "      cursor: pointer;\n",
       "      display: none;\n",
       "      fill: #1967D2;\n",
       "      height: 32px;\n",
       "      padding: 0 0 0 0;\n",
       "      width: 32px;\n",
       "    }\n",
       "\n",
       "    .colab-df-convert:hover {\n",
       "      background-color: #E2EBFA;\n",
       "      box-shadow: 0px 1px 2px rgba(60, 64, 67, 0.3), 0px 1px 3px 1px rgba(60, 64, 67, 0.15);\n",
       "      fill: #174EA6;\n",
       "    }\n",
       "\n",
       "    [theme=dark] .colab-df-convert {\n",
       "      background-color: #3B4455;\n",
       "      fill: #D2E3FC;\n",
       "    }\n",
       "\n",
       "    [theme=dark] .colab-df-convert:hover {\n",
       "      background-color: #434B5C;\n",
       "      box-shadow: 0px 1px 3px 1px rgba(0, 0, 0, 0.15);\n",
       "      filter: drop-shadow(0px 1px 2px rgba(0, 0, 0, 0.3));\n",
       "      fill: #FFFFFF;\n",
       "    }\n",
       "  </style>\n",
       "\n",
       "      <script>\n",
       "        const buttonEl =\n",
       "          document.querySelector('#df-e0ef6520-8b55-4cd8-ac8e-fe46fc3f8f8a button.colab-df-convert');\n",
       "        buttonEl.style.display =\n",
       "          google.colab.kernel.accessAllowed ? 'block' : 'none';\n",
       "\n",
       "        async function convertToInteractive(key) {\n",
       "          const element = document.querySelector('#df-e0ef6520-8b55-4cd8-ac8e-fe46fc3f8f8a');\n",
       "          const dataTable =\n",
       "            await google.colab.kernel.invokeFunction('convertToInteractive',\n",
       "                                                     [key], {});\n",
       "          if (!dataTable) return;\n",
       "\n",
       "          const docLinkHtml = 'Like what you see? Visit the ' +\n",
       "            '<a target=\"_blank\" href=https://colab.research.google.com/notebooks/data_table.ipynb>data table notebook</a>'\n",
       "            + ' to learn more about interactive tables.';\n",
       "          element.innerHTML = '';\n",
       "          dataTable['output_type'] = 'display_data';\n",
       "          await google.colab.output.renderOutput(dataTable, element);\n",
       "          const docLink = document.createElement('div');\n",
       "          docLink.innerHTML = docLinkHtml;\n",
       "          element.appendChild(docLink);\n",
       "        }\n",
       "      </script>\n",
       "    </div>\n",
       "  </div>\n",
       "  "
      ]
     },
     "metadata": {},
     "execution_count": 36
    }
   ]
  },
  {
   "cell_type": "markdown",
   "metadata": {
    "id": "WOvthdW-28Ih"
   },
   "source": [
    "## Log in to Layer"
   ]
  },
  {
   "cell_type": "code",
   "execution_count": null,
   "metadata": {
    "id": "nDqVqDaq28Ih",
    "pycharm": {
     "is_executing": true
    }
   },
   "outputs": [],
   "source": [
    "import layer\n",
    "layer.login()"
   ]
  },
  {
   "cell_type": "markdown",
   "metadata": {
    "id": "v5IWMEeg28Ih"
   },
   "source": [
    "### Initialize a Layer project"
   ]
  },
  {
   "cell_type": "code",
   "execution_count": null,
   "metadata": {
    "tags": [],
    "pycharm": {
     "is_executing": true
    },
    "colab": {
     "base_uri": "https://localhost:8080/"
    },
    "id": "Dd-FNc7K28Ih",
    "outputId": "53fadf8f-0019-4e03-9168-0af4e9334cb4"
   },
   "outputs": [],
   "source": [
    "from layer.decorators import model, fabric\n",
    "layer.init(\"ango-face-classification\")"
   ]
  },
  {
   "cell_type": "markdown",
   "metadata": {
    "id": "rKPLZPCK28Ih"
   },
   "source": [
    "### Define the model training function"
   ]
  },
  {
   "cell_type": "code",
   "source": [
    "from tensorflow.keras.preprocessing.image import img_to_array\n",
    "def load_process_images(image):\n",
    "  image = image.resize((224,224))\n",
    "  image_array  = img_to_array(image)\n",
    "  return image_array"
   ],
   "metadata": {
    "id": "0yReTZuR2vH2"
   },
   "execution_count": 28,
   "outputs": []
  },
  {
   "cell_type": "code",
   "execution_count": 29,
   "metadata": {
    "tags": [],
    "id": "ughlVXUf28Ih"
   },
   "outputs": [],
   "source": [
    "@fabric(\"f-gpu-small\")\n",
    "@model(\"face-classification\")\n",
    "def train():\n",
    "  from tensorflow import keras\n",
    "  from tensorflow.keras import Sequential\n",
    "  from tensorflow.keras.layers import Dense,Conv2D,MaxPooling2D,Flatten,Dropout,Resizing\n",
    "  from tensorflow.keras.preprocessing.image import ImageDataGenerator\n",
    "  from tensorflow.keras.callbacks import EarlyStopping\n",
    "  import matplotlib.pyplot as plt \n",
    "  import numpy as np\n",
    "  import pandas as pd\n",
    "  from sklearn.preprocessing import LabelEncoder\n",
    "  from sklearn.model_selection import train_test_split\n",
    "\n",
    "\n",
    "  df = build()\n",
    "  df['sex'] = df['sex'].map(map_columns)\n",
    "  df['age'] = df['age'].map(map_columns)\n",
    "  df['hair_color'] = df['hair_color'].map(map_columns)\n",
    "  df['beard_color'] = df['beard_color'].map(map_columns)\n",
    "  df['mustache_color'] = df['mustache_color'].map(map_columns)\n",
    "  df['eye_color'] = df['eye_color'].map(map_columns)\n",
    "  df['glasses'] = df['glasses'].map(map_columns)\n",
    "  layer.log({\"Sample Data\": df.sample(10).drop(\"image\",axis=1)})\n",
    "  gender = df[['image','sex']]\n",
    "  labelencoder = LabelEncoder()\n",
    "  gender = gender.assign(sex = labelencoder.fit_transform(gender[\"sex\"]))\n",
    "  X = gender[['image']]\n",
    "  y = gender[['sex']]\n",
    "  X_train, X_test, y_train, y_test = train_test_split( X, y, test_size=0.20, random_state=42)\n",
    "\n",
    "  for image in range(5):\n",
    "    layer.log({f\"Sample face-{image}\": X_train['image'][image]})\n",
    "  X_train = np.stack(X_train['image'].map(load_process_images))\n",
    "  X_test = np.stack(X_test['image'].map(load_process_images))\n",
    "    \n",
    "  train_datagen = ImageDataGenerator(rescale=1./255, shear_range=0.2,zoom_range=0.2, horizontal_flip=True,width_shift_range=0.1,height_shift_range=0.1)\n",
    "  train_datagen.fit(X_train)\n",
    "  training_data = train_datagen.flow(X_train, y_train, batch_size=32)\n",
    " \n",
    "  validation_gen = ImageDataGenerator(rescale=1./255)\n",
    "  testing_data = validation_gen.flow(X_test, y_test, batch_size=32)\n",
    "\n",
    "  model = Sequential([\n",
    "    Conv2D(filters=32,kernel_size=(3,3),  input_shape = (224, 224, 3),activation='relu'),\n",
    "    MaxPooling2D(pool_size=(2,2)),\n",
    "\n",
    "    Conv2D(filters=32,kernel_size=(3,3), activation='relu'),\n",
    "    MaxPooling2D(pool_size=(2,2)),\n",
    "    Dropout(0.25),\n",
    "\n",
    "    Conv2D(filters=64,kernel_size=(3,3), activation='relu'),\n",
    "    MaxPooling2D(pool_size=(2,2)),\n",
    "    Dropout(0.25),\n",
    "\n",
    "    Flatten(),\n",
    "    Dense(128, activation='relu'),\n",
    "    Dropout(0.25),\n",
    "    Dense(3, activation='softmax')])\n",
    "\n",
    "  model.compile(optimizer='adam', loss=keras.losses.SparseCategoricalCrossentropy(), metrics=[keras.metrics.CategoricalAccuracy()])\n",
    "  callback = EarlyStopping(monitor='loss', patience=3)\n",
    "  epochs=2\n",
    "  history = model.fit(training_data,validation_data=testing_data, epochs=epochs,callbacks=[callback])\n",
    "  metrics_df = pd.DataFrame(history.history)\n",
    "  layer.log({\"metrics DataFrame\": metrics_df})\n",
    "  loss, accuracy = model.evaluate(testing_data)\n",
    "  layer.log({\"Testing loss\": loss})\n",
    "  layer.log({\"Testing accuracy\": accuracy})\n",
    "  print('Accuracy on test dataset:', accuracy)\n",
    "  metrics_df[[\"loss\",\"val_loss\"]].plot()\n",
    "  layer.log({\"Loss plot\": plt.gcf()})\n",
    "  training_loss, training_accuracy = model.evaluate(training_data)\n",
    "  layer.log({\"Training loss\": training_loss})\n",
    "  layer.log({\"Training accuracy\": training_accuracy})\n",
    "  metrics_df[[\"categorical_accuracy\",\"val_categorical_accuracy\"]].plot()\n",
    "  layer.log({\"Accuracy plot\": plt.gcf()})\n",
    "  return model"
   ]
  },
  {
   "cell_type": "markdown",
   "metadata": {
    "id": "oeQatbZg28Ih"
   },
   "source": [
    "### Model training"
   ]
  },
  {
   "cell_type": "code",
   "execution_count": 30,
   "metadata": {
    "tags": [],
    "id": "VeUhXJYN28Ih"
   },
   "outputs": [],
   "source": [
    "# Train the model on your local infra\n",
    "# train()"
   ]
  },
  {
   "cell_type": "code",
   "execution_count": null,
   "metadata": {
    "pycharm": {
     "is_executing": true
    },
    "id": "aA0bbLYy28Ih",
    "colab": {
     "base_uri": "https://localhost:8080/",
     "height": 51,
     "referenced_widgets": [
      "4196b028eeeb4707a8ad040bb1888c78",
      "92557a091b614c128b45f2e781158c0a"
     ]
    },
    "outputId": "e3285cb9-4aca-430c-d916-59bcd9fef796"
   },
   "outputs": [],
   "source": [
    "# Run the project on Layer Infra using remote GPUs\n",
    "layer.run([train])"
   ]
  },
  {
   "cell_type": "markdown",
   "metadata": {
    "id": "mfxBCx9i28Ii"
   },
   "source": [
    "### Fetch trained model"
   ]
  },
  {
   "cell_type": "code",
   "execution_count": 15,
   "metadata": {
    "tags": [],
    "id": "_BHjJKNW28Ii",
    "colab": {
     "base_uri": "https://localhost:8080/",
     "height": 34,
     "referenced_widgets": [
      "8acafb18ce2248008d17ad25ce710052",
      "5cb5c8ee080244ea96272a219d552729"
     ]
    },
    "outputId": "0cb50730-0854-45e8-b481-443af8a9a8a7",
    "pycharm": {
     "is_executing": true
    }
   },
   "outputs": [
    {
     "output_type": "display_data",
     "data": {
      "text/plain": [
       "Output()"
      ],
      "application/vnd.jupyter.widget-view+json": {
       "version_major": 2,
       "version_minor": 0,
       "model_id": "8acafb18ce2248008d17ad25ce710052"
      }
     },
     "metadata": {}
    }
   ],
   "source": [
    "my_model = layer.get_model('layer/ango-face-classification/models/face-classification').get_train()"
   ]
  },
  {
   "cell_type": "markdown",
   "metadata": {
    "id": "JIM3wV6Y28Ii"
   },
   "source": [
    "### Run predictions on the model"
   ]
  },
  {
   "cell_type": "code",
   "execution_count": 16,
   "metadata": {
    "id": "Ihh1Xpwf28Ii"
   },
   "outputs": [],
   "source": [
    "import numpy as np\n",
    "from keras.preprocessing import image"
   ]
  },
  {
   "cell_type": "code",
   "execution_count": null,
   "metadata": {
    "pycharm": {
     "is_executing": true
    },
    "id": "Z5Yt8lZQ28Ik"
   },
   "outputs": [],
   "source": [
    "!wget --no-check-certificate \\\n",
    "   https://storage.googleapis.com/ango-covid-dataset/ffhq-dataset/batch2/48312.png \\\n",
    "    -O 48312.png"
   ]
  },
  {
   "cell_type": "code",
   "execution_count": 18,
   "metadata": {
    "id": "jWVBJRxz28Il"
   },
   "outputs": [],
   "source": [
    "test_image = image.load_img('48312.png', target_size=(224, 224))"
   ]
  },
  {
   "cell_type": "code",
   "execution_count": 19,
   "metadata": {
    "id": "xpMjFACv28Il"
   },
   "outputs": [],
   "source": [
    "test_image = image.img_to_array(test_image)"
   ]
  },
  {
   "cell_type": "code",
   "execution_count": 20,
   "metadata": {
    "id": "IiZY_yTY28Il"
   },
   "outputs": [],
   "source": [
    "test_image = test_image / 255.0"
   ]
  },
  {
   "cell_type": "code",
   "execution_count": 21,
   "metadata": {
    "id": "W_k3thPL28Il"
   },
   "outputs": [],
   "source": [
    "test_image = np.expand_dims(test_image, axis=0)"
   ]
  },
  {
   "cell_type": "code",
   "execution_count": 22,
   "metadata": {
    "id": "UA94GZtB28Il"
   },
   "outputs": [],
   "source": [
    "prediction = my_model.predict(test_image)"
   ]
  },
  {
   "cell_type": "code",
   "execution_count": 23,
   "metadata": {
    "id": "_WhEFH8s28Il",
    "colab": {
     "base_uri": "https://localhost:8080/"
    },
    "outputId": "12e34b80-7e14-4596-b57e-d3ffd997939a"
   },
   "outputs": [
    {
     "output_type": "execute_result",
     "data": {
      "text/plain": [
       "array([0.7038149 , 0.02021183, 0.27597332], dtype=float32)"
      ]
     },
     "metadata": {},
     "execution_count": 23
    }
   ],
   "source": [
    "prediction[0]"
   ]
  },
  {
   "cell_type": "code",
   "execution_count": null,
   "metadata": {
    "id": "U0U9oML228Il",
    "pycharm": {
     "is_executing": true
    }
   },
   "outputs": [],
   "source": [
    "import tensorflow as tf\n",
    "scores = tf.nn.softmax(prediction[0])\n",
    "scores = scores.numpy()\n",
    "class_names = ['Female', 'I am not sure', 'Male']\n",
    "f\"{class_names[np.argmax(scores)]} with a { (100 * np.max(scores)).round(2) } percent confidence.\" "
   ]
  },
  {
   "cell_type": "markdown",
   "metadata": {
    "id": "lIcI708I28Im"
   },
   "source": [
    "## Next steps\n",
    "To learn more about using layer, you can: \n",
    "- Join our [Slack Community ](https://bit.ly/layercommunityslack)\n",
    "- Visit [Layer Examples Repo](https://github.com/layerai/examples) for more examples\n",
    "- Browse [Trending Layer Projects](https://layer.ai) on our mainpage\n",
    "- Check out [Layer Documentation](https://docs.app.layer.ai) to learn more"
   ]
  }
 ],
 "metadata": {
  "kernelspec": {
   "display_name": "Python 3 (ipykernel)",
   "language": "python",
   "name": "python3"
  },
  "language_info": {
   "codemirror_mode": {
    "name": "ipython",
    "version": 3
   },
   "file_extension": ".py",
   "mimetype": "text/x-python",
   "name": "python",
   "nbconvert_exporter": "python",
   "pygments_lexer": "ipython3",
   "version": "3.8.13"
  },
  "colab": {
   "name": "ango.ipynb",
   "provenance": []
  },
  "widgets": {
   "application/vnd.jupyter.widget-state+json": {
    "4196b028eeeb4707a8ad040bb1888c78": {
     "model_module": "@jupyter-widgets/output",
     "model_name": "OutputModel",
     "model_module_version": "1.0.0",
     "state": {
      "_dom_classes": [],
      "_model_module": "@jupyter-widgets/output",
      "_model_module_version": "1.0.0",
      "_model_name": "OutputModel",
      "_view_count": null,
      "_view_module": "@jupyter-widgets/output",
      "_view_module_version": "1.0.0",
      "_view_name": "OutputView",
      "layout": "IPY_MODEL_92557a091b614c128b45f2e781158c0a",
      "msg_id": "",
      "outputs": [
       {
        "output_type": "display_data",
        "data": {
         "text/plain": "\u001B[32m⠏\u001B[0m  face-classification  \u001B[38;2;0;0;0m━━━━━━━━━\u001B[0m\u001B[39m╺\u001B[0m TRAINING \u001B[39m[\u001B[0m\u001B[38;2;155;155;159m0:00:57\u001B[0m\u001B[39m]\u001B[0m                               \n   \u001B[4;38;2;161;161;169m↳ \u001B[0m\u001B]8;id=185128;https://app.layer.ai/layer/ango-face-classification/models/face-classification\u001B\\\u001B[4;38;2;161;161;169mhttps://app.layer.ai/layer/ango-face-classification/models/face-classification\u001B[0m\u001B]8;;\u001B\\ \n",
         "text/html": "<pre style=\"white-space:pre;overflow-x:auto;line-height:normal;font-family:Menlo,'DejaVu Sans Mono',consolas,'Courier New',monospace\"><span style=\"color: #008000; text-decoration-color: #008000\">⠏</span>  face-classification  <span style=\"color: #000000; text-decoration-color: #000000\">━━━━━━━━━</span><span style=\"color: #000000; text-decoration-color: #000000\">╺</span> TRAINING <span style=\"color: #000000; text-decoration-color: #000000\">[</span><span style=\"color: #9b9b9f; text-decoration-color: #9b9b9f\">0:00:57</span><span style=\"color: #000000; text-decoration-color: #000000\">]</span>                               \n   <span style=\"color: #a1a1a9; text-decoration-color: #a1a1a9; text-decoration: underline\">↳ </span><a href=\"https://app.layer.ai/layer/ango-face-classification/models/face-classification\"><span style=\"color: #a1a1a9; text-decoration-color: #a1a1a9; text-decoration: underline\">https://app.layer.ai/layer/ango-face-classification/models/face-classification</span></a> \n</pre>\n"
        },
        "metadata": {}
       }
      ]
     }
    },
    "92557a091b614c128b45f2e781158c0a": {
     "model_module": "@jupyter-widgets/base",
     "model_name": "LayoutModel",
     "model_module_version": "1.2.0",
     "state": {
      "_model_module": "@jupyter-widgets/base",
      "_model_module_version": "1.2.0",
      "_model_name": "LayoutModel",
      "_view_count": null,
      "_view_module": "@jupyter-widgets/base",
      "_view_module_version": "1.2.0",
      "_view_name": "LayoutView",
      "align_content": null,
      "align_items": null,
      "align_self": null,
      "border": null,
      "bottom": null,
      "display": null,
      "flex": null,
      "flex_flow": null,
      "grid_area": null,
      "grid_auto_columns": null,
      "grid_auto_flow": null,
      "grid_auto_rows": null,
      "grid_column": null,
      "grid_gap": null,
      "grid_row": null,
      "grid_template_areas": null,
      "grid_template_columns": null,
      "grid_template_rows": null,
      "height": null,
      "justify_content": null,
      "justify_items": null,
      "left": null,
      "margin": null,
      "max_height": null,
      "max_width": null,
      "min_height": null,
      "min_width": null,
      "object_fit": null,
      "object_position": null,
      "order": null,
      "overflow": null,
      "overflow_x": null,
      "overflow_y": null,
      "padding": null,
      "right": null,
      "top": null,
      "visibility": null,
      "width": null
     }
    },
    "8acafb18ce2248008d17ad25ce710052": {
     "model_module": "@jupyter-widgets/output",
     "model_name": "OutputModel",
     "model_module_version": "1.0.0",
     "state": {
      "_dom_classes": [],
      "_model_module": "@jupyter-widgets/output",
      "_model_module_version": "1.0.0",
      "_model_name": "OutputModel",
      "_view_count": null,
      "_view_module": "@jupyter-widgets/output",
      "_view_module_version": "1.0.0",
      "_view_name": "OutputView",
      "layout": "IPY_MODEL_5cb5c8ee080244ea96272a219d552729",
      "msg_id": "",
      "outputs": [
       {
        "output_type": "display_data",
        "data": {
         "text/plain": "\u001B[32m⠦\u001B[0m  face-classification  \u001B[38;2;21;127;61m━━━━━━━━━━\u001B[0m \u001B[38;2;21;127;61mLOADED\u001B[0m \u001B[39m[\u001B[0m\u001B[38;2;155;155;159m0:00:06\u001B[0m\u001B[39m]\u001B[0m \n",
         "text/html": "<pre style=\"white-space:pre;overflow-x:auto;line-height:normal;font-family:Menlo,'DejaVu Sans Mono',consolas,'Courier New',monospace\"><span style=\"color: #008000; text-decoration-color: #008000\">⠦</span>  face-classification  <span style=\"color: #157f3d; text-decoration-color: #157f3d\">━━━━━━━━━━</span> <span style=\"color: #157f3d; text-decoration-color: #157f3d\">LOADED</span> <span style=\"color: #000000; text-decoration-color: #000000\">[</span><span style=\"color: #9b9b9f; text-decoration-color: #9b9b9f\">0:00:06</span><span style=\"color: #000000; text-decoration-color: #000000\">]</span> \n</pre>\n"
        },
        "metadata": {}
       }
      ]
     }
    },
    "5cb5c8ee080244ea96272a219d552729": {
     "model_module": "@jupyter-widgets/base",
     "model_name": "LayoutModel",
     "model_module_version": "1.2.0",
     "state": {
      "_model_module": "@jupyter-widgets/base",
      "_model_module_version": "1.2.0",
      "_model_name": "LayoutModel",
      "_view_count": null,
      "_view_module": "@jupyter-widgets/base",
      "_view_module_version": "1.2.0",
      "_view_name": "LayoutView",
      "align_content": null,
      "align_items": null,
      "align_self": null,
      "border": null,
      "bottom": null,
      "display": null,
      "flex": null,
      "flex_flow": null,
      "grid_area": null,
      "grid_auto_columns": null,
      "grid_auto_flow": null,
      "grid_auto_rows": null,
      "grid_column": null,
      "grid_gap": null,
      "grid_row": null,
      "grid_template_areas": null,
      "grid_template_columns": null,
      "grid_template_rows": null,
      "height": null,
      "justify_content": null,
      "justify_items": null,
      "left": null,
      "margin": null,
      "max_height": null,
      "max_width": null,
      "min_height": null,
      "min_width": null,
      "object_fit": null,
      "object_position": null,
      "order": null,
      "overflow": null,
      "overflow_x": null,
      "overflow_y": null,
      "padding": null,
      "right": null,
      "top": null,
      "visibility": null,
      "width": null
     }
    }
   }
  }
 },
 "nbformat": 4,
 "nbformat_minor": 0
}